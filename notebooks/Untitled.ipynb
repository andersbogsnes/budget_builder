{
 "cells": [
  {
   "cell_type": "code",
   "execution_count": 10,
   "id": "7eed3cbe-30f3-4983-9c34-4db3901f9593",
   "metadata": {
    "tags": []
   },
   "outputs": [],
   "source": [
    "from budget_builder.models import Expense, Category\n",
    "import sqlalchemy as sa\n",
    "import polars as pl\n",
    "from sqlalchemy.orm import Session\n",
    "import altair as alt\n",
    "import pandas as pd"
   ]
  },
  {
   "cell_type": "code",
   "execution_count": 2,
   "id": "81982fb6-b42c-4a53-bfd2-2a92c24db919",
   "metadata": {
    "tags": []
   },
   "outputs": [],
   "source": [
    "engine = sa.create_engine(\"sqlite:///../test.db\")"
   ]
  },
  {
   "cell_type": "code",
   "execution_count": 3,
   "id": "de7cb7d1-9f14-4c43-a02b-428839adae0b",
   "metadata": {
    "tags": []
   },
   "outputs": [],
   "source": [
    "sql = sa.select(Expense.__table__, Category.__table__.c.name).join(Category.__table__)"
   ]
  },
  {
   "cell_type": "code",
   "execution_count": null,
   "id": "48960748-5d18-43be-8b0e-98712f148690",
   "metadata": {},
   "outputs": [],
   "source": []
  },
  {
   "cell_type": "code",
   "execution_count": 19,
   "id": "9270534b-b1c6-4a3c-9b81-0f7cae96ffa7",
   "metadata": {
    "tags": []
   },
   "outputs": [],
   "source": [
    "with engine.connect() as conn:\n",
    "    df = pd.read_sql(sql, conn)\n",
    "    df['date'] = pd.to_datetime(df['date'])"
   ]
  },
  {
   "cell_type": "code",
   "execution_count": 20,
   "id": "ad44c048-ac3b-4e99-b29c-66ed874241c4",
   "metadata": {
    "tags": []
   },
   "outputs": [
    {
     "data": {
      "text/html": [
       "<div>\n",
       "<style scoped>\n",
       "    .dataframe tbody tr th:only-of-type {\n",
       "        vertical-align: middle;\n",
       "    }\n",
       "\n",
       "    .dataframe tbody tr th {\n",
       "        vertical-align: top;\n",
       "    }\n",
       "\n",
       "    .dataframe thead th {\n",
       "        text-align: right;\n",
       "    }\n",
       "</style>\n",
       "<table border=\"1\" class=\"dataframe\">\n",
       "  <thead>\n",
       "    <tr style=\"text-align: right;\">\n",
       "      <th></th>\n",
       "      <th>id</th>\n",
       "      <th>md5_hash</th>\n",
       "      <th>date</th>\n",
       "      <th>amount</th>\n",
       "      <th>description</th>\n",
       "      <th>remaining</th>\n",
       "      <th>category_id</th>\n",
       "      <th>name</th>\n",
       "    </tr>\n",
       "  </thead>\n",
       "  <tbody>\n",
       "    <tr>\n",
       "      <th>0</th>\n",
       "      <td>1</td>\n",
       "      <td>21bffa224b98118545aa5392c499ed54</td>\n",
       "      <td>2022-12-30</td>\n",
       "      <td>-57166.67</td>\n",
       "      <td>Bs betaling NORDEA KREDIT - REAL</td>\n",
       "      <td>36952.42</td>\n",
       "      <td>1</td>\n",
       "      <td>Mortgage</td>\n",
       "    </tr>\n",
       "    <tr>\n",
       "      <th>1</th>\n",
       "      <td>2</td>\n",
       "      <td>5498e833db2e1fb05c92c00e14e33e7c</td>\n",
       "      <td>2022-12-30</td>\n",
       "      <td>20000.00</td>\n",
       "      <td>Joint Expenses Ander           s</td>\n",
       "      <td>94119.09</td>\n",
       "      <td>2</td>\n",
       "      <td>Transfer</td>\n",
       "    </tr>\n",
       "    <tr>\n",
       "      <th>2</th>\n",
       "      <td>3</td>\n",
       "      <td>a5cbb121b9e7be372e6515b589dcf00d</td>\n",
       "      <td>2022-12-30</td>\n",
       "      <td>10000.00</td>\n",
       "      <td>Joint expenses contr           ibution</td>\n",
       "      <td>74119.09</td>\n",
       "      <td>2</td>\n",
       "      <td>Transfer</td>\n",
       "    </tr>\n",
       "    <tr>\n",
       "      <th>3</th>\n",
       "      <td>4</td>\n",
       "      <td>588da3445e81a1a19d78d5cbf770e099</td>\n",
       "      <td>2022-12-14</td>\n",
       "      <td>-3950.00</td>\n",
       "      <td>Comitato Pro Scuola</td>\n",
       "      <td>64119.09</td>\n",
       "      <td>3</td>\n",
       "      <td>School</td>\n",
       "    </tr>\n",
       "    <tr>\n",
       "      <th>4</th>\n",
       "      <td>5</td>\n",
       "      <td>1324510e0e8ac4b5ab212cbcaab39919</td>\n",
       "      <td>2022-12-05</td>\n",
       "      <td>-4747.74</td>\n",
       "      <td>Bs betaling HOFOR A/S</td>\n",
       "      <td>68069.09</td>\n",
       "      <td>4</td>\n",
       "      <td>Utility</td>\n",
       "    </tr>\n",
       "    <tr>\n",
       "      <th>...</th>\n",
       "      <td>...</td>\n",
       "      <td>...</td>\n",
       "      <td>...</td>\n",
       "      <td>...</td>\n",
       "      <td>...</td>\n",
       "      <td>...</td>\n",
       "      <td>...</td>\n",
       "      <td>...</td>\n",
       "    </tr>\n",
       "    <tr>\n",
       "      <th>1800</th>\n",
       "      <td>1801</td>\n",
       "      <td>5efa6376e043b5a21716e1947ac89530</td>\n",
       "      <td>2023-01-02</td>\n",
       "      <td>-180.40</td>\n",
       "      <td>IRMA TYBJERGVEJ   VA</td>\n",
       "      <td>67392.95</td>\n",
       "      <td>13</td>\n",
       "      <td>Supermarket</td>\n",
       "    </tr>\n",
       "    <tr>\n",
       "      <th>1801</th>\n",
       "      <td>1802</td>\n",
       "      <td>43a2c01582f1e961adf6956bbfeda694</td>\n",
       "      <td>2023-01-02</td>\n",
       "      <td>-110.00</td>\n",
       "      <td>BOOTLEGGERS IB APS</td>\n",
       "      <td>67573.35</td>\n",
       "      <td>14</td>\n",
       "      <td>Restaurant</td>\n",
       "    </tr>\n",
       "    <tr>\n",
       "      <th>1802</th>\n",
       "      <td>1803</td>\n",
       "      <td>d57945b2326d2e3f189ffa5f72b86d39</td>\n",
       "      <td>2023-01-02</td>\n",
       "      <td>-81.00</td>\n",
       "      <td>DUNKIN DONUTS HGB AF</td>\n",
       "      <td>67683.35</td>\n",
       "      <td>14</td>\n",
       "      <td>Restaurant</td>\n",
       "    </tr>\n",
       "    <tr>\n",
       "      <th>1803</th>\n",
       "      <td>1804</td>\n",
       "      <td>62c53c82e1986a1e27d0090657795d50</td>\n",
       "      <td>2023-01-02</td>\n",
       "      <td>-35.00</td>\n",
       "      <td>ZOOLOGISK HAVE I KOE</td>\n",
       "      <td>67764.35</td>\n",
       "      <td>14</td>\n",
       "      <td>Restaurant</td>\n",
       "    </tr>\n",
       "    <tr>\n",
       "      <th>1804</th>\n",
       "      <td>1805</td>\n",
       "      <td>fb31fb7adbb98a95f46a26517f1effa7</td>\n",
       "      <td>2023-01-02</td>\n",
       "      <td>-21.00</td>\n",
       "      <td>ZOOLOGISK HAVE I KOE</td>\n",
       "      <td>67799.35</td>\n",
       "      <td>14</td>\n",
       "      <td>Restaurant</td>\n",
       "    </tr>\n",
       "  </tbody>\n",
       "</table>\n",
       "<p>1805 rows × 8 columns</p>\n",
       "</div>"
      ],
      "text/plain": [
       "        id                          md5_hash       date    amount   \n",
       "0        1  21bffa224b98118545aa5392c499ed54 2022-12-30 -57166.67  \\\n",
       "1        2  5498e833db2e1fb05c92c00e14e33e7c 2022-12-30  20000.00   \n",
       "2        3  a5cbb121b9e7be372e6515b589dcf00d 2022-12-30  10000.00   \n",
       "3        4  588da3445e81a1a19d78d5cbf770e099 2022-12-14  -3950.00   \n",
       "4        5  1324510e0e8ac4b5ab212cbcaab39919 2022-12-05  -4747.74   \n",
       "...    ...                               ...        ...       ...   \n",
       "1800  1801  5efa6376e043b5a21716e1947ac89530 2023-01-02   -180.40   \n",
       "1801  1802  43a2c01582f1e961adf6956bbfeda694 2023-01-02   -110.00   \n",
       "1802  1803  d57945b2326d2e3f189ffa5f72b86d39 2023-01-02    -81.00   \n",
       "1803  1804  62c53c82e1986a1e27d0090657795d50 2023-01-02    -35.00   \n",
       "1804  1805  fb31fb7adbb98a95f46a26517f1effa7 2023-01-02    -21.00   \n",
       "\n",
       "                                 description  remaining  category_id   \n",
       "0           Bs betaling NORDEA KREDIT - REAL   36952.42            1  \\\n",
       "1           Joint Expenses Ander           s   94119.09            2   \n",
       "2     Joint expenses contr           ibution   74119.09            2   \n",
       "3                        Comitato Pro Scuola   64119.09            3   \n",
       "4                      Bs betaling HOFOR A/S   68069.09            4   \n",
       "...                                      ...        ...          ...   \n",
       "1800                    IRMA TYBJERGVEJ   VA   67392.95           13   \n",
       "1801                      BOOTLEGGERS IB APS   67573.35           14   \n",
       "1802                    DUNKIN DONUTS HGB AF   67683.35           14   \n",
       "1803                    ZOOLOGISK HAVE I KOE   67764.35           14   \n",
       "1804                    ZOOLOGISK HAVE I KOE   67799.35           14   \n",
       "\n",
       "             name  \n",
       "0        Mortgage  \n",
       "1        Transfer  \n",
       "2        Transfer  \n",
       "3          School  \n",
       "4         Utility  \n",
       "...           ...  \n",
       "1800  Supermarket  \n",
       "1801   Restaurant  \n",
       "1802   Restaurant  \n",
       "1803   Restaurant  \n",
       "1804   Restaurant  \n",
       "\n",
       "[1805 rows x 8 columns]"
      ]
     },
     "execution_count": 20,
     "metadata": {},
     "output_type": "execute_result"
    }
   ],
   "source": [
    "df"
   ]
  },
  {
   "cell_type": "code",
   "execution_count": 46,
   "id": "a4629abf-c1ae-4c63-955d-4ff35559e9ff",
   "metadata": {
    "tags": []
   },
   "outputs": [],
   "source": [
    "yearly_cost = df.query('name != \"Transfer\"').groupby([df.date.dt.strftime('%Y-%m'), 'name']).agg({'amount': 'sum'}).mul(-1).reset_index()"
   ]
  },
  {
   "cell_type": "code",
   "execution_count": 49,
   "id": "67b104fc-b813-4644-b41b-895a7c3fc32a",
   "metadata": {
    "tags": []
   },
   "outputs": [
    {
     "data": {
      "text/plain": [
       "date       object\n",
       "name       object\n",
       "amount    float64\n",
       "dtype: object"
      ]
     },
     "execution_count": 49,
     "metadata": {},
     "output_type": "execute_result"
    }
   ],
   "source": []
  },
  {
   "cell_type": "code",
   "execution_count": 52,
   "id": "e8dedd71-a757-4885-bd9f-f76cb513f4ea",
   "metadata": {
    "tags": []
   },
   "outputs": [
    {
     "data": {
      "text/html": [
       "\n",
       "<style>\n",
       "  #altair-viz-4b9a1301c52a419b940281e3a9e78580.vega-embed {\n",
       "    width: 100%;\n",
       "    display: flex;\n",
       "  }\n",
       "\n",
       "  #altair-viz-4b9a1301c52a419b940281e3a9e78580.vega-embed details,\n",
       "  #altair-viz-4b9a1301c52a419b940281e3a9e78580.vega-embed details summary {\n",
       "    position: relative;\n",
       "  }\n",
       "</style>\n",
       "<div id=\"altair-viz-4b9a1301c52a419b940281e3a9e78580\"></div>\n",
       "<script type=\"text/javascript\">\n",
       "  var VEGA_DEBUG = (typeof VEGA_DEBUG == \"undefined\") ? {} : VEGA_DEBUG;\n",
       "  (function(spec, embedOpt){\n",
       "    let outputDiv = document.currentScript.previousElementSibling;\n",
       "    if (outputDiv.id !== \"altair-viz-4b9a1301c52a419b940281e3a9e78580\") {\n",
       "      outputDiv = document.getElementById(\"altair-viz-4b9a1301c52a419b940281e3a9e78580\");\n",
       "    }\n",
       "    const paths = {\n",
       "      \"vega\": \"https://cdn.jsdelivr.net/npm/vega@5?noext\",\n",
       "      \"vega-lib\": \"https://cdn.jsdelivr.net/npm/vega-lib?noext\",\n",
       "      \"vega-lite\": \"https://cdn.jsdelivr.net/npm/vega-lite@5.8.0?noext\",\n",
       "      \"vega-embed\": \"https://cdn.jsdelivr.net/npm/vega-embed@6?noext\",\n",
       "    };\n",
       "\n",
       "    function maybeLoadScript(lib, version) {\n",
       "      var key = `${lib.replace(\"-\", \"\")}_version`;\n",
       "      return (VEGA_DEBUG[key] == version) ?\n",
       "        Promise.resolve(paths[lib]) :\n",
       "        new Promise(function(resolve, reject) {\n",
       "          var s = document.createElement('script');\n",
       "          document.getElementsByTagName(\"head\")[0].appendChild(s);\n",
       "          s.async = true;\n",
       "          s.onload = () => {\n",
       "            VEGA_DEBUG[key] = version;\n",
       "            return resolve(paths[lib]);\n",
       "          };\n",
       "          s.onerror = () => reject(`Error loading script: ${paths[lib]}`);\n",
       "          s.src = paths[lib];\n",
       "        });\n",
       "    }\n",
       "\n",
       "    function showError(err) {\n",
       "      outputDiv.innerHTML = `<div class=\"error\" style=\"color:red;\">${err}</div>`;\n",
       "      throw err;\n",
       "    }\n",
       "\n",
       "    function displayChart(vegaEmbed) {\n",
       "      vegaEmbed(outputDiv, spec, embedOpt)\n",
       "        .catch(err => showError(`Javascript Error: ${err.message}<br>This usually means there's a typo in your chart specification. See the javascript console for the full traceback.`));\n",
       "    }\n",
       "\n",
       "    if(typeof define === \"function\" && define.amd) {\n",
       "      requirejs.config({paths});\n",
       "      require([\"vega-embed\"], displayChart, err => showError(`Error loading script: ${err.message}`));\n",
       "    } else {\n",
       "      maybeLoadScript(\"vega\", \"5\")\n",
       "        .then(() => maybeLoadScript(\"vega-lite\", \"5.8.0\"))\n",
       "        .then(() => maybeLoadScript(\"vega-embed\", \"6\"))\n",
       "        .catch(showError)\n",
       "        .then(() => displayChart(vegaEmbed));\n",
       "    }\n",
       "  })({\"config\": {\"view\": {\"continuousWidth\": 300, \"continuousHeight\": 300}}, \"data\": {\"name\": \"data-3e52cd4f2f9883fc4e480142f490c2cf\"}, \"mark\": {\"type\": \"bar\"}, \"encoding\": {\"facet\": {\"field\": \"name\", \"type\": \"nominal\"}, \"tooltip\": {\"field\": \"amount\", \"type\": \"quantitative\"}, \"x\": {\"field\": \"date\", \"type\": \"nominal\"}, \"y\": {\"field\": \"amount\", \"type\": \"quantitative\"}}, \"$schema\": \"https://vega.github.io/schema/vega-lite/v5.8.0.json\", \"datasets\": {\"data-3e52cd4f2f9883fc4e480142f490c2cf\": [{\"date\": \"2022-01\", \"name\": \"A-Kasse\", \"amount\": 1515.0}, {\"date\": \"2022-01\", \"name\": \"Child Care\", \"amount\": 2738.0}, {\"date\": \"2022-01\", \"name\": \"Cleaning\", \"amount\": 3300.0}, {\"date\": \"2022-01\", \"name\": \"Dentist\", \"amount\": 750.83}, {\"date\": \"2022-01\", \"name\": \"Household Items\", \"amount\": 10762.5}, {\"date\": \"2022-01\", \"name\": \"Maintenance\", \"amount\": 3934.47}, {\"date\": \"2022-01\", \"name\": \"Restaurant\", \"amount\": 4325.3}, {\"date\": \"2022-01\", \"name\": \"School\", \"amount\": 3850.0}, {\"date\": \"2022-01\", \"name\": \"Subscriptions\", \"amount\": 273.78999999999996}, {\"date\": \"2022-01\", \"name\": \"Supermarket\", \"amount\": 8165.05}, {\"date\": \"2022-01\", \"name\": \"Transportation\", \"amount\": 48.0}, {\"date\": \"2022-01\", \"name\": \"Utility\", \"amount\": 3727.37}, {\"date\": \"2022-01\", \"name\": \"Yearly Card\", \"amount\": 420.0}, {\"date\": \"2022-02\", \"name\": \"Child Care\", \"amount\": 2738.0}, {\"date\": \"2022-02\", \"name\": \"Cleaning\", \"amount\": 2200.0}, {\"date\": \"2022-02\", \"name\": \"Ejendomsforening\", \"amount\": 5200.0}, {\"date\": \"2022-02\", \"name\": \"Games\", \"amount\": 1221.94}, {\"date\": \"2022-02\", \"name\": \"Household Items\", \"amount\": 5070.61}, {\"date\": \"2022-02\", \"name\": \"Lunch\", \"amount\": 380.0}, {\"date\": \"2022-02\", \"name\": \"Maintenance\", \"amount\": 15000.0}, {\"date\": \"2022-02\", \"name\": \"Restaurant\", \"amount\": 5568.2}, {\"date\": \"2022-02\", \"name\": \"Subscriptions\", \"amount\": 1171.29}, {\"date\": \"2022-02\", \"name\": \"Supermarket\", \"amount\": 3860.33}, {\"date\": \"2022-02\", \"name\": \"Unknown\", \"amount\": 241.0}, {\"date\": \"2022-03\", \"name\": \"Child Care\", \"amount\": 2738.0}, {\"date\": \"2022-03\", \"name\": \"Cleaning\", \"amount\": 2200.0}, {\"date\": \"2022-03\", \"name\": \"Games\", \"amount\": 828.5699999999999}, {\"date\": \"2022-03\", \"name\": \"House Tax\", \"amount\": 26100.69}, {\"date\": \"2022-03\", \"name\": \"Household Items\", \"amount\": 549.85}, {\"date\": \"2022-03\", \"name\": \"Insurance\", \"amount\": 8640.07}, {\"date\": \"2022-03\", \"name\": \"Lunch\", \"amount\": 590.0}, {\"date\": \"2022-03\", \"name\": \"Mortgage\", \"amount\": 57352.22}, {\"date\": \"2022-03\", \"name\": \"Restaurant\", \"amount\": 8539.8}, {\"date\": \"2022-03\", \"name\": \"Subscriptions\", \"amount\": 797.52}, {\"date\": \"2022-03\", \"name\": \"Supermarket\", \"amount\": 6330.8}, {\"date\": \"2022-03\", \"name\": \"Unknown\", \"amount\": 50.0}, {\"date\": \"2022-03\", \"name\": \"Utility\", \"amount\": 6257.6}, {\"date\": \"2022-03\", \"name\": \"Yearly Card\", \"amount\": 390.0}, {\"date\": \"2022-04\", \"name\": \"A-Kasse\", \"amount\": 1515.0}, {\"date\": \"2022-04\", \"name\": \"Babysitter\", \"amount\": 570.0}, {\"date\": \"2022-04\", \"name\": \"Child Care\", \"amount\": 2738.0}, {\"date\": \"2022-04\", \"name\": \"Cleaning\", \"amount\": 1787.5}, {\"date\": \"2022-04\", \"name\": \"Games\", \"amount\": 1358.94}, {\"date\": \"2022-04\", \"name\": \"Household Items\", \"amount\": 671.87}, {\"date\": \"2022-04\", \"name\": \"Insurance\", \"amount\": 3367.42}, {\"date\": \"2022-04\", \"name\": \"Lunch\", \"amount\": 325.0}, {\"date\": \"2022-04\", \"name\": \"Restaurant\", \"amount\": 7690.43}, {\"date\": \"2022-04\", \"name\": \"Subscriptions\", \"amount\": 1470.1}, {\"date\": \"2022-04\", \"name\": \"Supermarket\", \"amount\": 1894.57}, {\"date\": \"2022-04\", \"name\": \"Utility\", \"amount\": 2049.38}, {\"date\": \"2022-05\", \"name\": \"Child Care\", \"amount\": 2738.0}, {\"date\": \"2022-05\", \"name\": \"Cleaning\", \"amount\": 1650.0}, {\"date\": \"2022-05\", \"name\": \"Games\", \"amount\": 1335.9}, {\"date\": \"2022-05\", \"name\": \"Household Items\", \"amount\": 9278.13}, {\"date\": \"2022-05\", \"name\": \"Insurance\", \"amount\": 3612.4}, {\"date\": \"2022-05\", \"name\": \"Lunch\", \"amount\": 440.0}, {\"date\": \"2022-05\", \"name\": \"Maintenance\", \"amount\": 29062.2}, {\"date\": \"2022-05\", \"name\": \"Restaurant\", \"amount\": 6345.56}, {\"date\": \"2022-05\", \"name\": \"School\", \"amount\": 770.0}, {\"date\": \"2022-05\", \"name\": \"Subscriptions\", \"amount\": 1217.51}, {\"date\": \"2022-05\", \"name\": \"Supermarket\", \"amount\": 7042.63}, {\"date\": \"2022-05\", \"name\": \"Transportation\", \"amount\": 1053.3600000000001}, {\"date\": \"2022-05\", \"name\": \"Unknown\", \"amount\": 9520.75}, {\"date\": \"2022-05\", \"name\": \"Utility\", \"amount\": 2343.31}, {\"date\": \"2022-06\", \"name\": \"Child Care\", \"amount\": 2738.0}, {\"date\": \"2022-06\", \"name\": \"Cleaning\", \"amount\": 1512.5}, {\"date\": \"2022-06\", \"name\": \"Games\", \"amount\": 999.29}, {\"date\": \"2022-06\", \"name\": \"Household Items\", \"amount\": 3255.32}, {\"date\": \"2022-06\", \"name\": \"Lunch\", \"amount\": 416.0}, {\"date\": \"2022-06\", \"name\": \"Maintenance\", \"amount\": 961.6000000000001}, {\"date\": \"2022-06\", \"name\": \"Mortgage\", \"amount\": 57290.52}, {\"date\": \"2022-06\", \"name\": \"Restaurant\", \"amount\": 6384.5}, {\"date\": \"2022-06\", \"name\": \"Subscriptions\", \"amount\": 582.66}, {\"date\": \"2022-06\", \"name\": \"Supermarket\", \"amount\": 5087.95}, {\"date\": \"2022-06\", \"name\": \"Transportation\", \"amount\": 324.0}, {\"date\": \"2022-06\", \"name\": \"Unknown\", \"amount\": 164.95}, {\"date\": \"2022-06\", \"name\": \"Utility\", \"amount\": 4747.74}, {\"date\": \"2022-06\", \"name\": \"Yearly Card\", \"amount\": 290.0}, {\"date\": \"2022-07\", \"name\": \"A-Kasse\", \"amount\": 1515.0}, {\"date\": \"2022-07\", \"name\": \"Child Care\", \"amount\": 2738.0}, {\"date\": \"2022-07\", \"name\": \"Cleaning\", \"amount\": 1512.5}, {\"date\": \"2022-07\", \"name\": \"Games\", \"amount\": 1318.47}, {\"date\": \"2022-07\", \"name\": \"Household Items\", \"amount\": 5360.84}, {\"date\": \"2022-07\", \"name\": \"Lunch\", \"amount\": 573.0}, {\"date\": \"2022-07\", \"name\": \"Maintenance\", \"amount\": 1194.3}, {\"date\": \"2022-07\", \"name\": \"Restaurant\", \"amount\": 5911.3}, {\"date\": \"2022-07\", \"name\": \"School\", \"amount\": 3850.0}, {\"date\": \"2022-07\", \"name\": \"Subscriptions\", \"amount\": 603.85}, {\"date\": \"2022-07\", \"name\": \"Supermarket\", \"amount\": 4220.37}, {\"date\": \"2022-07\", \"name\": \"Transportation\", \"amount\": 114.0}, {\"date\": \"2022-07\", \"name\": \"Unknown\", \"amount\": 24007.75}, {\"date\": \"2022-07\", \"name\": \"Utility\", \"amount\": 2462.42}, {\"date\": \"2022-08\", \"name\": \"Child Care\", \"amount\": 2738.0}, {\"date\": \"2022-08\", \"name\": \"Cleaning\", \"amount\": 2200.0}, {\"date\": \"2022-08\", \"name\": \"Games\", \"amount\": 2216.52}, {\"date\": \"2022-08\", \"name\": \"Household Items\", \"amount\": 1050.12}, {\"date\": \"2022-08\", \"name\": \"Lunch\", \"amount\": 411.0}, {\"date\": \"2022-08\", \"name\": \"Restaurant\", \"amount\": 3840.41}, {\"date\": \"2022-08\", \"name\": \"Subscriptions\", \"amount\": 480.64}, {\"date\": \"2022-08\", \"name\": \"Supermarket\", \"amount\": 3422.89}, {\"date\": \"2022-08\", \"name\": \"Transportation\", \"amount\": 704.0}, {\"date\": \"2022-08\", \"name\": \"Unknown\", \"amount\": 13523.61}, {\"date\": \"2022-09\", \"name\": \"Babysitter\", \"amount\": 740.0}, {\"date\": \"2022-09\", \"name\": \"Child Care\", \"amount\": 2738.0}, {\"date\": \"2022-09\", \"name\": \"Cleaning\", \"amount\": 2062.5}, {\"date\": \"2022-09\", \"name\": \"Games\", \"amount\": 1451.73}, {\"date\": \"2022-09\", \"name\": \"House Tax\", \"amount\": 26279.56}, {\"date\": \"2022-09\", \"name\": \"Household Items\", \"amount\": 2514.6}, {\"date\": \"2022-09\", \"name\": \"Lunch\", \"amount\": 334.0}, {\"date\": \"2022-09\", \"name\": \"Mortgage\", \"amount\": 57228.67}, {\"date\": \"2022-09\", \"name\": \"Restaurant\", \"amount\": 9940.94}, {\"date\": \"2022-09\", \"name\": \"Subscriptions\", \"amount\": 396.78}, {\"date\": \"2022-09\", \"name\": \"Supermarket\", \"amount\": 5254.4}, {\"date\": \"2022-09\", \"name\": \"Transportation\", \"amount\": 1210.54}, {\"date\": \"2022-09\", \"name\": \"Unknown\", \"amount\": 1259.97}, {\"date\": \"2022-09\", \"name\": \"Utility\", \"amount\": 4747.74}, {\"date\": \"2022-09\", \"name\": \"Yearly Card\", \"amount\": 182.24}, {\"date\": \"2022-10\", \"name\": \"A-Kasse\", \"amount\": 1515.0}, {\"date\": \"2022-10\", \"name\": \"Child Care\", \"amount\": 2738.0}, {\"date\": \"2022-10\", \"name\": \"Cleaning\", \"amount\": 1275.0}, {\"date\": \"2022-10\", \"name\": \"Games\", \"amount\": 464.0}, {\"date\": \"2022-10\", \"name\": \"Household Items\", \"amount\": 579.0}, {\"date\": \"2022-10\", \"name\": \"Insurance\", \"amount\": 221.13}, {\"date\": \"2022-10\", \"name\": \"Lunch\", \"amount\": 463.0}, {\"date\": \"2022-10\", \"name\": \"Maintenance\", \"amount\": 3797.45}, {\"date\": \"2022-10\", \"name\": \"Restaurant\", \"amount\": 3691.8}, {\"date\": \"2022-10\", \"name\": \"Subscriptions\", \"amount\": 697.78}, {\"date\": \"2022-10\", \"name\": \"Supermarket\", \"amount\": 5325.88}, {\"date\": \"2022-10\", \"name\": \"Transportation\", \"amount\": 171.0}, {\"date\": \"2022-10\", \"name\": \"Unknown\", \"amount\": 8905.82}, {\"date\": \"2022-10\", \"name\": \"Utility\", \"amount\": 6070.37}, {\"date\": \"2022-10\", \"name\": \"Yearly Card\", \"amount\": 415.5}, {\"date\": \"2022-11\", \"name\": \"Child Care\", \"amount\": 2738.0}, {\"date\": \"2022-11\", \"name\": \"Cleaning\", \"amount\": 2475.0}, {\"date\": \"2022-11\", \"name\": \"Games\", \"amount\": 1863.47}, {\"date\": \"2022-11\", \"name\": \"Household Items\", \"amount\": 451.58}, {\"date\": \"2022-11\", \"name\": \"Insurance\", \"amount\": 1491.06}, {\"date\": \"2022-11\", \"name\": \"Lunch\", \"amount\": 465.0}, {\"date\": \"2022-11\", \"name\": \"Restaurant\", \"amount\": 4516.47}, {\"date\": \"2022-11\", \"name\": \"Subscriptions\", \"amount\": 2417.8}, {\"date\": \"2022-11\", \"name\": \"Supermarket\", \"amount\": 5986.36}, {\"date\": \"2022-11\", \"name\": \"Transportation\", \"amount\": 567.0}, {\"date\": \"2022-11\", \"name\": \"Unknown\", \"amount\": 1283.54}, {\"date\": \"2022-11\", \"name\": \"Utility\", \"amount\": 97.0}, {\"date\": \"2022-12\", \"name\": \"Child Care\", \"amount\": 2738.0}, {\"date\": \"2022-12\", \"name\": \"Games\", \"amount\": 3057.94}, {\"date\": \"2022-12\", \"name\": \"Household Items\", \"amount\": 8340.66}, {\"date\": \"2022-12\", \"name\": \"Insurance\", \"amount\": 1334.06}, {\"date\": \"2022-12\", \"name\": \"Lunch\", \"amount\": 551.0}, {\"date\": \"2022-12\", \"name\": \"Mortgage\", \"amount\": 57166.67}, {\"date\": \"2022-12\", \"name\": \"Restaurant\", \"amount\": 5115.64}, {\"date\": \"2022-12\", \"name\": \"School\", \"amount\": 3950.0}, {\"date\": \"2022-12\", \"name\": \"Subscriptions\", \"amount\": 1905.96}, {\"date\": \"2022-12\", \"name\": \"Supermarket\", \"amount\": 4934.55}, {\"date\": \"2022-12\", \"name\": \"Transportation\", \"amount\": 387.0}, {\"date\": \"2022-12\", \"name\": \"Unknown\", \"amount\": 110.0}, {\"date\": \"2022-12\", \"name\": \"Utility\", \"amount\": 4747.74}, {\"date\": \"2022-12\", \"name\": \"Yearly Card\", \"amount\": -591.0}, {\"date\": \"2023-01\", \"name\": \"A-Kasse\", \"amount\": 1515.0}, {\"date\": \"2023-01\", \"name\": \"Child Care\", \"amount\": 2762.0}, {\"date\": \"2023-01\", \"name\": \"Cleaning\", \"amount\": 2400.0}, {\"date\": \"2023-01\", \"name\": \"Games\", \"amount\": 221.43}, {\"date\": \"2023-01\", \"name\": \"Household Items\", \"amount\": 1440.6100000000001}, {\"date\": \"2023-01\", \"name\": \"Insurance\", \"amount\": 1535.07}, {\"date\": \"2023-01\", \"name\": \"Lunch\", \"amount\": 436.0}, {\"date\": \"2023-01\", \"name\": \"Maintenance\", \"amount\": 141.9}, {\"date\": \"2023-01\", \"name\": \"Restaurant\", \"amount\": 7571.41}, {\"date\": \"2023-01\", \"name\": \"Subscriptions\", \"amount\": 1361.15}, {\"date\": \"2023-01\", \"name\": \"Supermarket\", \"amount\": 5058.72}, {\"date\": \"2023-01\", \"name\": \"Transportation\", \"amount\": 409.0}, {\"date\": \"2023-01\", \"name\": \"Unknown\", \"amount\": 776.0}, {\"date\": \"2023-01\", \"name\": \"Utility\", \"amount\": 300.97}, {\"date\": \"2023-01\", \"name\": \"Yearly Card\", \"amount\": 880.0}, {\"date\": \"2023-02\", \"name\": \"Babysitter\", \"amount\": 180.0}, {\"date\": \"2023-02\", \"name\": \"Child Care\", \"amount\": 2762.0}, {\"date\": \"2023-02\", \"name\": \"Cleaning\", \"amount\": 750.0}, {\"date\": \"2023-02\", \"name\": \"Ejendomsforening\", \"amount\": 6000.0}, {\"date\": \"2023-02\", \"name\": \"Games\", \"amount\": 1351.35}, {\"date\": \"2023-02\", \"name\": \"House Tax\", \"amount\": 52522.8}, {\"date\": \"2023-02\", \"name\": \"Household Items\", \"amount\": 1442.9}, {\"date\": \"2023-02\", \"name\": \"Insurance\", \"amount\": 1375.07}, {\"date\": \"2023-02\", \"name\": \"Lunch\", \"amount\": 619.0}, {\"date\": \"2023-02\", \"name\": \"Restaurant\", \"amount\": 4542.9}, {\"date\": \"2023-02\", \"name\": \"Subscriptions\", \"amount\": 1224.9299999999998}, {\"date\": \"2023-02\", \"name\": \"Supermarket\", \"amount\": 3456.66}, {\"date\": \"2023-02\", \"name\": \"Unknown\", \"amount\": 8534.64}, {\"date\": \"2023-03\", \"name\": \"Child Care\", \"amount\": 2762.0}, {\"date\": \"2023-03\", \"name\": \"Cleaning\", \"amount\": 625.0}, {\"date\": \"2023-03\", \"name\": \"Games\", \"amount\": 489.99}, {\"date\": \"2023-03\", \"name\": \"Household Items\", \"amount\": 3889.4300000000003}, {\"date\": \"2023-03\", \"name\": \"Insurance\", \"amount\": 1375.07}, {\"date\": \"2023-03\", \"name\": \"Lunch\", \"amount\": 162.0}, {\"date\": \"2023-03\", \"name\": \"Mortgage\", \"amount\": 57104.51}, {\"date\": \"2023-03\", \"name\": \"Restaurant\", \"amount\": 4391.95}, {\"date\": \"2023-03\", \"name\": \"Subscriptions\", \"amount\": 2299.72}, {\"date\": \"2023-03\", \"name\": \"Supermarket\", \"amount\": 5627.6}, {\"date\": \"2023-03\", \"name\": \"Transportation\", \"amount\": 1521.19}, {\"date\": \"2023-03\", \"name\": \"Unknown\", \"amount\": -501.87}, {\"date\": \"2023-04\", \"name\": \"A-Kasse\", \"amount\": 1515.0}, {\"date\": \"2023-04\", \"name\": \"Child Care\", \"amount\": 2762.0}, {\"date\": \"2023-04\", \"name\": \"Cleaning\", \"amount\": 3875.0}, {\"date\": \"2023-04\", \"name\": \"Games\", \"amount\": 104.0}, {\"date\": \"2023-04\", \"name\": \"Household Items\", \"amount\": 220.6}, {\"date\": \"2023-04\", \"name\": \"Insurance\", \"amount\": 1375.07}, {\"date\": \"2023-04\", \"name\": \"Lunch\", \"amount\": 262.0}, {\"date\": \"2023-04\", \"name\": \"Restaurant\", \"amount\": 2326.73}, {\"date\": \"2023-04\", \"name\": \"Subscriptions\", \"amount\": 2842.16}, {\"date\": \"2023-04\", \"name\": \"Supermarket\", \"amount\": 3817.7300000000005}, {\"date\": \"2023-04\", \"name\": \"Unknown\", \"amount\": 940.0}, {\"date\": \"2023-04\", \"name\": \"Utility\", \"amount\": 1567.28}, {\"date\": \"2023-04\", \"name\": \"Yearly Card\", \"amount\": 1199.0}]}}, {\"mode\": \"vega-lite\"});\n",
       "</script>"
      ],
      "text/plain": [
       "alt.Chart(...)"
      ]
     },
     "execution_count": 52,
     "metadata": {},
     "output_type": "execute_result"
    }
   ],
   "source": [
    "alt.Chart(yearly_cost).mark_bar().encode(x='date', y='amount', facet='name', tooltip='amount')"
   ]
  }
 ],
 "metadata": {
  "kernelspec": {
   "display_name": "Python 3 (ipykernel)",
   "language": "python",
   "name": "python3"
  },
  "language_info": {
   "codemirror_mode": {
    "name": "ipython",
    "version": 3
   },
   "file_extension": ".py",
   "mimetype": "text/x-python",
   "name": "python",
   "nbconvert_exporter": "python",
   "pygments_lexer": "ipython3",
   "version": "3.11.1"
  }
 },
 "nbformat": 4,
 "nbformat_minor": 5
}
